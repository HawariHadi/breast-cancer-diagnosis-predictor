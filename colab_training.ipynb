{
 "cells": [
  {
   "cell_type": "markdown",
   "id": "a48fa1a2",
   "metadata": {},
   "source": [
    "# Colab: Train the Breast Cancer Diagnosis Predictor"
   ]
  },
  {
   "cell_type": "markdown",
   "id": "85a498bc",
   "metadata": {},
   "source": [
    "## 1) Setup"
   ]
  },
  {
   "cell_type": "code",
   "execution_count": null,
   "id": "53b5b688",
   "metadata": {},
   "outputs": [],
   "source": [
    "\n",
    "!pip -q install numpy==1.26.4 pandas==2.2.2 scikit-learn==1.5.2 matplotlib==3.9.2 joblib==1.4.2\n"
   ]
  },
  {
   "cell_type": "markdown",
   "id": "98efef13",
   "metadata": {},
   "source": [
    "## 2) Load or upload processed data\n",
    "- Upload `X_train.csv`, `y_train.csv`, `X_test.csv`, `y_test.csv` to `/content/data/processed/`"
   ]
  },
  {
   "cell_type": "code",
   "execution_count": null,
   "id": "3df5b63e",
   "metadata": {},
   "outputs": [],
   "source": [
    "\n",
    "import os, pandas as pd, pathlib\n",
    "base = pathlib.Path('/content')\n",
    "(base/'data/processed').mkdir(parents=True, exist_ok=True)\n",
    "# from google.colab import files  # Uncomment if you want to upload manually\n",
    "# files.upload()  # then move files into data/processed\n"
   ]
  },
  {
   "cell_type": "markdown",
   "id": "00175ec9",
   "metadata": {},
   "source": [
    "## 3) Copy in minimal training code"
   ]
  },
  {
   "cell_type": "code",
   "execution_count": null,
   "id": "e8c77f73",
   "metadata": {},
   "outputs": [],
   "source": [
    "\n",
    "import argparse, pathlib, joblib\n",
    "import pandas as pd\n",
    "from sklearn.model_selection import train_test_split\n",
    "from sklearn.preprocessing import StandardScaler\n",
    "from sklearn.neural_network import MLPClassifier\n",
    "from sklearn.pipeline import Pipeline\n",
    "from sklearn.metrics import classification_report\n",
    "\n",
    "def main(data_dir, outdir):\n",
    "    data_dir = pathlib.Path(data_dir)\n",
    "    X = pd.read_csv(data_dir / \"X_train.csv\")\n",
    "    y = pd.read_csv(data_dir / \"y_train.csv\").squeeze()\n",
    "\n",
    "    X_tr, X_val, y_tr, y_val = train_test_split(X, y, test_size=0.2, random_state=42, stratify=y)\n",
    "\n",
    "    pipe = Pipeline([\n",
    "        (\"scaler\", StandardScaler()),\n",
    "        (\"clf\", MLPClassifier(hidden_layer_sizes=(64, 32), max_iter=300, random_state=42))\n",
    "    ])\n",
    "\n",
    "    pipe.fit(X_tr, y_tr)\n",
    "    y_pred = pipe.predict(X_val)\n",
    "    print(classification_report(y_val, y_pred))\n",
    "\n",
    "    out = pathlib.Path(outdir)\n",
    "    out.mkdir(parents=True, exist_ok=True)\n",
    "    joblib.dump(pipe, out / \"model.joblib\")\n",
    "    print(f\"Saved model to {out / 'model.joblib'}\")\n",
    "\n",
    "if __name__ == \"__main__\":\n",
    "    ap = argparse.ArgumentParser()\n",
    "    ap.add_argument(\"--data\", required=True, help=\"directory containing X_train.csv and y_train.csv\")\n",
    "    ap.add_argument(\"--outdir\", default=\"models\")\n",
    "    args = ap.parse_args()\n",
    "    main(args.data, args.outdir)\n"
   ]
  },
  {
   "cell_type": "markdown",
   "id": "4806cf9f",
   "metadata": {},
   "source": [
    "## 4) Train"
   ]
  },
  {
   "cell_type": "code",
   "execution_count": null,
   "id": "f5126fbd",
   "metadata": {},
   "outputs": [],
   "source": [
    "\n",
    "# Save the train.py content to a file then run it\n",
    "with open('/content/train.py', 'w') as f:\n",
    "    f.write(_ih[-3])  # writes the previous code cell content (train_py)\n",
    "!python /content/train.py --data /content/data/processed --outdir /content/models\n"
   ]
  },
  {
   "cell_type": "markdown",
   "id": "3d9456d9",
   "metadata": {},
   "source": [
    "## 5) Evaluate"
   ]
  },
  {
   "cell_type": "code",
   "execution_count": null,
   "id": "0199a2d9",
   "metadata": {},
   "outputs": [],
   "source": [
    "\n",
    "import argparse, joblib, pathlib\n",
    "import pandas as pd\n",
    "from sklearn.metrics import classification_report, confusion_matrix, roc_auc_score, RocCurveDisplay\n",
    "import matplotlib.pyplot as plt\n",
    "\n",
    "def main(data_dir, model_path):\n",
    "    data_dir = pathlib.Path(data_dir)\n",
    "    X = pd.read_csv(data_dir / \"X_test.csv\")\n",
    "    y = pd.read_csv(data_dir / \"y_test.csv\").squeeze()\n",
    "\n",
    "    model = joblib.load(model_path)\n",
    "    y_pred = model.predict(X)\n",
    "\n",
    "    print(\"Classification report:\")\n",
    "    print(classification_report(y, y_pred))\n",
    "\n",
    "    try:\n",
    "        # If the classifier supports predict_proba\n",
    "        y_prob = model.predict_proba(X)[:,1]\n",
    "        auc = roc_auc_score(y, y_prob)\n",
    "        print(f\"ROC AUC: {auc:.4f}\")\n",
    "        RocCurveDisplay.from_predictions(y, y_prob)\n",
    "        plt.title(\"ROC Curve\")\n",
    "        plt.savefig(\"assets/screenshots/roc_curve.png\", bbox_inches=\"tight\")\n",
    "        print(\"Saved ROC curve to assets/screenshots/roc_curve.png\")\n",
    "    except Exception as e:\n",
    "        print(\"Could not compute ROC curve (no predict_proba?):\", e)\n",
    "\n",
    "    # Confusion matrix\n",
    "    cm = confusion_matrix(y, y_pred)\n",
    "    import numpy as np\n",
    "    fig, ax = plt.subplots()\n",
    "    ax.imshow(cm, cmap=\"Blues\")\n",
    "    ax.set_title(\"Confusion Matrix\")\n",
    "    ax.set_xlabel(\"Predicted\")\n",
    "    ax.set_ylabel(\"True\")\n",
    "    for (i, j), val in np.ndenumerate(cm):\n",
    "        ax.text(j, i, int(val), ha=\"center\", va=\"center\")\n",
    "    plt.savefig(\"assets/screenshots/confusion_matrix.png\", bbox_inches=\"tight\")\n",
    "    print(\"Saved confusion matrix to assets/screenshots/confusion_matrix.png\")\n",
    "\n",
    "if __name__ == \"__main__\":\n",
    "    ap = argparse.ArgumentParser()\n",
    "    ap.add_argument(\"--data\", required=True, help=\"directory containing X_test.csv and y_test.csv\")\n",
    "    ap.add_argument(\"--model\", required=True, help=\"path to model.joblib\")\n",
    "    args = ap.parse_args()\n",
    "    main(args.data, args.model)\n"
   ]
  },
  {
   "cell_type": "code",
   "execution_count": null,
   "id": "ffe03bd5",
   "metadata": {},
   "outputs": [],
   "source": [
    "\n",
    "with open('/content/evaluate.py', 'w') as f:\n",
    "    f.write(_ih[-2])  # writes evaluate_py\n",
    "!python /content/evaluate.py --data /content/data/processed --model /content/models/model.joblib\n"
   ]
  },
  {
   "cell_type": "markdown",
   "id": "24e94dd6",
   "metadata": {},
   "source": [
    "## 6) Inference (optional)"
   ]
  },
  {
   "cell_type": "code",
   "execution_count": null,
   "id": "7d4b6d3e",
   "metadata": {},
   "outputs": [],
   "source": [
    "\n",
    "import argparse, joblib, pandas as pd\n",
    "\n",
    "def main(model_path, input_csv, output_csv):\n",
    "    model = joblib.load(model_path)\n",
    "    X = pd.read_csv(input_csv)\n",
    "    preds = model.predict(X)\n",
    "    pd.DataFrame({\"prediction\": preds}).to_csv(output_csv, index=False)\n",
    "    print(f\"Saved predictions to {output_csv}\")\n",
    "\n",
    "if __name__ == \"__main__\":\n",
    "    ap = argparse.ArgumentParser()\n",
    "    ap.add_argument(\"--model\", required=True)\n",
    "    ap.add_argument(\"--input\", required=True)\n",
    "    ap.add_argument(\"--output\", default=\"predictions.csv\")\n",
    "    args = ap.parse_args()\n",
    "    main(args.model, args.input, args.output)\n"
   ]
  },
  {
   "cell_type": "code",
   "execution_count": null,
   "id": "5851ecb3",
   "metadata": {},
   "outputs": [],
   "source": [
    "\n",
    "with open('/content/infer.py', 'w') as f:\n",
    "    f.write(_ih[-2])  # writes infer.py\n",
    "# Example: create a dummy sample (replace with real features)\n",
    "# import pandas as pd\n",
    "# pd.DataFrame({...}).to_csv('/content/sample.csv', index=False)\n",
    "# !python /content/infer.py --model /content/models/model.joblib --input /content/sample.csv --output /content/predictions.csv\n"
   ]
  }
 ],
 "metadata": {},
 "nbformat": 4,
 "nbformat_minor": 5
}
